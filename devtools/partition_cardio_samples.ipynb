{
 "cells": [
  {
   "cell_type": "code",
   "execution_count": 8,
   "metadata": {},
   "outputs": [
    {
     "name": "stdout",
     "output_type": "stream",
     "text": [
      "849\n",
      "684\n",
      "667\n",
      "17\n",
      "182\n"
     ]
    }
   ],
   "source": [
    "import os\n",
    "import numpy as np\n",
    "\n",
    "mono_expr_file  = \"/cbscratch/franco/datasets/cardiogenics/cardio_mono_expr.txt.gencode_filter\"\n",
    "macro_expr_file = \"/cbscratch/franco/datasets/cardiogenics/cardio_macro_expr.txt.gencode_filter\"\n",
    "\n",
    "with open(mono_expr_file) as instream:\n",
    "    mono_samples = instream.readline().strip().split()[1:]\n",
    "    \n",
    "print(len(mono_samples))\n",
    "    \n",
    "with open(macro_expr_file) as instream:\n",
    "    macro_samples = instream.readline().strip().split()[1:]\n",
    "    \n",
    "print(len(macro_samples))\n",
    "\n",
    "common_samples = [i for i in mono_samples if i in macro_samples]\n",
    "print(len(common_samples))\n",
    "\n",
    "only_macro_samples = [i for i in macro_samples if i not in mono_samples]\n",
    "print(len(only_macro_samples))\n",
    "\n",
    "only_mono_samples = [i for i in mono_samples if i not in macro_samples]\n",
    "print(len(only_mono_samples))"
   ]
  },
  {
   "cell_type": "code",
   "execution_count": 13,
   "metadata": {},
   "outputs": [
    {
     "name": "stdout",
     "output_type": "stream",
     "text": [
      "590\n",
      "15\n",
      "154\n"
     ]
    }
   ],
   "source": [
    "geno_sample_file = \"/cbscratch/franco/datasets/cardiogenics/genotypes/CG.sample\"\n",
    "with open(geno_sample_file) as instream:\n",
    "    geno_samples = [l.split()[0] for l in instream]\n",
    "\n",
    "geno_common = [i for i in geno_samples if i in common_samples]\n",
    "print(len(geno_common))\n",
    "\n",
    "geno_only_macro = [i for i in geno_samples if i in only_macro_samples]\n",
    "print(len(geno_only_macro))\n",
    "\n",
    "geno_only_mono = [i for i in geno_samples if i in only_mono_samples]\n",
    "print(len(geno_only_mono))"
   ]
  },
  {
   "cell_type": "code",
   "execution_count": 22,
   "metadata": {},
   "outputs": [
    {
     "name": "stdout",
     "output_type": "stream",
     "text": [
      "295\n"
     ]
    }
   ],
   "source": [
    "from random import shuffle\n",
    "\n",
    "macro_outsamples = \"/usr/users/fsimone/Tejaas_Pipeline/devtools/macro_usersamples.txt\"\n",
    "mono_outsamples  = \"/usr/users/fsimone/Tejaas_Pipeline/devtools/mono_usersamples.txt\"\n",
    "\n",
    "halfpoint = int(len(geno_common)/2)\n",
    "print(halfpoint)\n",
    "shuffle(geno_common)\n",
    "\n",
    "sdiff = len(geno_only_mono) - len(geno_only_macro)\n",
    "\n",
    "\n",
    "with open(macro_outsamples, 'w') as outstream:\n",
    "    outstream.write(\"\\n\".join(geno_only_macro))\n",
    "    outstream.write(\"\\n\")\n",
    "    outstream.write(\"\\n\".join(geno_common[:halfpoint])) \n",
    "    \n",
    "with open(mono_outsamples, 'w') as outstream:\n",
    "    outstream.write(\"\\n\".join(geno_only_mono))\n",
    "    outstream.write(\"\\n\")\n",
    "    outstream.write(\"\\n\".join(geno_common[halfpoint+sdiff:]))"
   ]
  }
 ],
 "metadata": {
  "kernelspec": {
   "display_name": "Python 3",
   "language": "python",
   "name": "python3"
  },
  "language_info": {
   "codemirror_mode": {
    "name": "ipython",
    "version": 3
   },
   "file_extension": ".py",
   "mimetype": "text/x-python",
   "name": "python",
   "nbconvert_exporter": "python",
   "pygments_lexer": "ipython3",
   "version": "3.6.6"
  }
 },
 "nbformat": 4,
 "nbformat_minor": 2
}
