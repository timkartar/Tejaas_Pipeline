{
 "cells": [
  {
   "cell_type": "code",
   "execution_count": 2,
   "metadata": {},
   "outputs": [],
   "source": [
    "\n",
    "import sys, os\n",
    "sys.path.append(\"../\")\n",
    "from iotools import readgtf\n",
    "from iotools.readOxford import ReadOxford\n",
    "from collections import defaultdict\n",
    "import pandas as pd\n",
    "\n",
    "gtfpath = \"/cbscratch/franco/datasets/gtex/gencode.v19.annotation.gtf.gz\"\n",
    "# can't read this with current library\n",
    "# gtfpath = \"/cbscratch/franco/datasets/gtex/gencode.v28lift37.annotation.gtf.gz\"\n",
    "gene_info = readgtf.gencode_v12(gtfpath, trim=False)\n",
    "\n",
    "gene_dict = defaultdict(lambda: False)\n",
    "for g in gene_info:\n",
    "    gene_dict[g.ensembl_id] = True\n",
    "    \n",
    "gene_info = readgtf.gencode_v12(gtfpath, trim=True)\n",
    "\n",
    "gene_trim_dict = defaultdict(lambda: False)\n",
    "for g in gene_info:\n",
    "    gene_trim_dict[g.ensembl_id] = True"
   ]
  },
  {
   "cell_type": "code",
   "execution_count": 3,
   "metadata": {},
   "outputs": [],
   "source": [
    "def filter_rows(df, genedict):\n",
    "    # genedict = gene_dict\n",
    "    # df = gx_df\n",
    "    gx_gene_list = df.index\n",
    "    common  = [genedict[x] for x in gx_gene_list]\n",
    "    print(\"{:d} genes remained from {:d}\".format(sum(common), len(gx_gene_list)))\n",
    "    return gx_df[common]"
   ]
  },
  {
   "cell_type": "code",
   "execution_count": 15,
   "metadata": {},
   "outputs": [
    {
     "name": "stdout",
     "output_type": "stream",
     "text": [
      "15051 genes remained from 23152\n"
     ]
    }
   ],
   "source": [
    "GXFILE=\"/cbscratch/franco/datasets/gtex/Whole_Blood_Analysis.v6p.normalized.expression.txt\"\n",
    "\n",
    "gx_df = pd.read_table(GXFILE, sep=\"\\t\", header=0, index_col=0)\n",
    "new_gx_df = filter_rows(gx_df, gene_dict)\n",
    "# new_gx_df.to_csv(GXFILE+\".gencode_filter\", doublequote=False, sep=\"\\t\")"
   ]
  },
  {
   "cell_type": "code",
   "execution_count": 16,
   "metadata": {},
   "outputs": [
    {
     "name": "stdout",
     "output_type": "stream",
     "text": [
      "14234 genes remained from 15304\n"
     ]
    }
   ],
   "source": [
    "GXFILE=\"/cbscratch/franco/datasets/cardiogenics/cardio_mono_expr.txt\"\n",
    "\n",
    "gx_df = pd.read_table(GXFILE, sep=\"\\t\", header=0, index_col=0)\n",
    "new_gx_df = filter_rows(gx_df, gene_trim_dict)\n",
    "# new_gx_df.to_csv(GXFILE+\".gencode_filter\", doublequote=False, sep=\"\\t\")"
   ]
  },
  {
   "cell_type": "code",
   "execution_count": 3,
   "metadata": {},
   "outputs": [
    {
     "name": "stdout",
     "output_type": "stream",
     "text": [
      "14234 genes remained from 15304\n"
     ]
    }
   ],
   "source": [
    "GXFILE=\"/cbscratch/franco/datasets/cardiogenics/cardio_macro_expr.txt\"\n",
    "\n",
    "gx_df = pd.read_table(GXFILE, sep=\"\\t\", header=0, index_col=0)\n",
    "new_gx_df = filter_rows(gx_df, gene_trim_dict)\n",
    "new_gx_df.to_csv(GXFILE+\".gencode_filter\", doublequote=False, sep=\"\\t\")"
   ]
  },
  {
   "cell_type": "code",
   "execution_count": 4,
   "metadata": {},
   "outputs": [
    {
     "name": "stdout",
     "output_type": "stream",
     "text": [
      "11367 genes remained from 12242\n"
     ]
    }
   ],
   "source": [
    "GXFILE=\"/cbscratch/franco/datasets/cardiogenics/cardio_macro_matrix_nodup.txt\"\n",
    "\n",
    "gx_df = pd.read_table(GXFILE, sep=\"\\t\", header=0, index_col=0)\n",
    "new_gx_df = filter_rows(gx_df, gene_trim_dict)\n",
    "new_gx_df.to_csv(GXFILE+\".gencode_filter\", doublequote=False, sep=\"\\t\")"
   ]
  },
  {
   "cell_type": "code",
   "execution_count": 5,
   "metadata": {},
   "outputs": [
    {
     "name": "stdout",
     "output_type": "stream",
     "text": [
      "11367 genes remained from 12242\n"
     ]
    }
   ],
   "source": [
    "GXFILE=\"/cbscratch/franco/datasets/cardiogenics/cardio_mono_matrix_nodup.txt\"\n",
    "\n",
    "gx_df = pd.read_table(GXFILE, sep=\"\\t\", header=0, index_col=0)\n",
    "new_gx_df = filter_rows(gx_df, gene_trim_dict)\n",
    "new_gx_df.to_csv(GXFILE+\".gencode_filter\", doublequote=False, sep=\"\\t\")"
   ]
  },
  {
   "cell_type": "code",
   "execution_count": 6,
   "metadata": {},
   "outputs": [
    {
     "data": {
      "text/html": [
       "<div>\n",
       "<style scoped>\n",
       "    .dataframe tbody tr th:only-of-type {\n",
       "        vertical-align: middle;\n",
       "    }\n",
       "\n",
       "    .dataframe tbody tr th {\n",
       "        vertical-align: top;\n",
       "    }\n",
       "\n",
       "    .dataframe thead th {\n",
       "        text-align: right;\n",
       "    }\n",
       "</style>\n",
       "<table border=\"1\" class=\"dataframe\">\n",
       "  <thead>\n",
       "    <tr style=\"text-align: right;\">\n",
       "      <th></th>\n",
       "      <th>CXMA-04-020</th>\n",
       "      <th>CXMA-04-029</th>\n",
       "      <th>CXMA-04-024</th>\n",
       "      <th>CXMA-04-037</th>\n",
       "      <th>CXMA-04-062</th>\n",
       "      <th>CXMA-04-065</th>\n",
       "      <th>CXMA-04-072</th>\n",
       "      <th>CXMA-01-082</th>\n",
       "      <th>CXMA-01-083</th>\n",
       "      <th>CXMA-01-084</th>\n",
       "      <th>...</th>\n",
       "      <th>CXMA-02-069</th>\n",
       "      <th>CXMA-02-070</th>\n",
       "      <th>CXMA-04-170</th>\n",
       "      <th>CXMA-04-171</th>\n",
       "      <th>CXMA-04-172</th>\n",
       "      <th>CXMA-04-169</th>\n",
       "      <th>CXMA-04-173</th>\n",
       "      <th>CXMA-04-174</th>\n",
       "      <th>CXMA-04-175</th>\n",
       "      <th>CXMA-02-027</th>\n",
       "    </tr>\n",
       "  </thead>\n",
       "  <tbody>\n",
       "    <tr>\n",
       "      <th>ENSG00000175899</th>\n",
       "      <td>4.247051</td>\n",
       "      <td>4.105224</td>\n",
       "      <td>4.307204</td>\n",
       "      <td>4.123169</td>\n",
       "      <td>4.250799</td>\n",
       "      <td>4.602557</td>\n",
       "      <td>4.765823</td>\n",
       "      <td>4.113936</td>\n",
       "      <td>4.377139</td>\n",
       "      <td>4.209879</td>\n",
       "      <td>...</td>\n",
       "      <td>4.276553</td>\n",
       "      <td>3.965200</td>\n",
       "      <td>4.541089</td>\n",
       "      <td>4.616176</td>\n",
       "      <td>4.033242</td>\n",
       "      <td>3.769167</td>\n",
       "      <td>4.225523</td>\n",
       "      <td>4.332024</td>\n",
       "      <td>4.318395</td>\n",
       "      <td>4.213553</td>\n",
       "    </tr>\n",
       "    <tr>\n",
       "      <th>ENSG00000128274</th>\n",
       "      <td>4.528650</td>\n",
       "      <td>4.269027</td>\n",
       "      <td>4.439886</td>\n",
       "      <td>4.213544</td>\n",
       "      <td>4.273097</td>\n",
       "      <td>4.310317</td>\n",
       "      <td>4.151901</td>\n",
       "      <td>4.344521</td>\n",
       "      <td>4.473742</td>\n",
       "      <td>4.292814</td>\n",
       "      <td>...</td>\n",
       "      <td>4.053890</td>\n",
       "      <td>4.121195</td>\n",
       "      <td>3.949637</td>\n",
       "      <td>4.360766</td>\n",
       "      <td>4.136586</td>\n",
       "      <td>4.523433</td>\n",
       "      <td>4.101148</td>\n",
       "      <td>4.568880</td>\n",
       "      <td>4.470527</td>\n",
       "      <td>4.440927</td>\n",
       "    </tr>\n",
       "    <tr>\n",
       "      <th>ENSG00000118017</th>\n",
       "      <td>4.785045</td>\n",
       "      <td>4.812414</td>\n",
       "      <td>4.493028</td>\n",
       "      <td>4.954977</td>\n",
       "      <td>5.026866</td>\n",
       "      <td>4.924700</td>\n",
       "      <td>4.597549</td>\n",
       "      <td>5.209931</td>\n",
       "      <td>4.848899</td>\n",
       "      <td>4.668983</td>\n",
       "      <td>...</td>\n",
       "      <td>4.806120</td>\n",
       "      <td>4.908338</td>\n",
       "      <td>4.885374</td>\n",
       "      <td>4.740426</td>\n",
       "      <td>4.742989</td>\n",
       "      <td>4.828685</td>\n",
       "      <td>5.019097</td>\n",
       "      <td>5.162487</td>\n",
       "      <td>4.717254</td>\n",
       "      <td>5.018914</td>\n",
       "    </tr>\n",
       "    <tr>\n",
       "      <th>ENSG00000094914</th>\n",
       "      <td>6.160696</td>\n",
       "      <td>5.727989</td>\n",
       "      <td>5.919671</td>\n",
       "      <td>5.590486</td>\n",
       "      <td>5.917948</td>\n",
       "      <td>6.004959</td>\n",
       "      <td>5.942657</td>\n",
       "      <td>6.058282</td>\n",
       "      <td>5.821115</td>\n",
       "      <td>5.914748</td>\n",
       "      <td>...</td>\n",
       "      <td>5.828140</td>\n",
       "      <td>5.737391</td>\n",
       "      <td>6.128291</td>\n",
       "      <td>6.001581</td>\n",
       "      <td>6.039275</td>\n",
       "      <td>6.062654</td>\n",
       "      <td>5.689895</td>\n",
       "      <td>5.639924</td>\n",
       "      <td>5.631681</td>\n",
       "      <td>5.778554</td>\n",
       "    </tr>\n",
       "    <tr>\n",
       "      <th>ENSG00000081760</th>\n",
       "      <td>5.921625</td>\n",
       "      <td>6.025548</td>\n",
       "      <td>6.081287</td>\n",
       "      <td>5.996200</td>\n",
       "      <td>5.695405</td>\n",
       "      <td>6.044789</td>\n",
       "      <td>6.049303</td>\n",
       "      <td>5.494247</td>\n",
       "      <td>6.081501</td>\n",
       "      <td>6.139230</td>\n",
       "      <td>...</td>\n",
       "      <td>6.130972</td>\n",
       "      <td>6.001461</td>\n",
       "      <td>5.874372</td>\n",
       "      <td>6.288392</td>\n",
       "      <td>5.840209</td>\n",
       "      <td>5.639442</td>\n",
       "      <td>6.186106</td>\n",
       "      <td>5.817356</td>\n",
       "      <td>5.850848</td>\n",
       "      <td>5.897589</td>\n",
       "    </tr>\n",
       "  </tbody>\n",
       "</table>\n",
       "<p>5 rows × 849 columns</p>\n",
       "</div>"
      ],
      "text/plain": [
       "                 CXMA-04-020  CXMA-04-029  CXMA-04-024  CXMA-04-037  \\\n",
       "ENSG00000175899     4.247051     4.105224     4.307204     4.123169   \n",
       "ENSG00000128274     4.528650     4.269027     4.439886     4.213544   \n",
       "ENSG00000118017     4.785045     4.812414     4.493028     4.954977   \n",
       "ENSG00000094914     6.160696     5.727989     5.919671     5.590486   \n",
       "ENSG00000081760     5.921625     6.025548     6.081287     5.996200   \n",
       "\n",
       "                 CXMA-04-062  CXMA-04-065  CXMA-04-072  CXMA-01-082  \\\n",
       "ENSG00000175899     4.250799     4.602557     4.765823     4.113936   \n",
       "ENSG00000128274     4.273097     4.310317     4.151901     4.344521   \n",
       "ENSG00000118017     5.026866     4.924700     4.597549     5.209931   \n",
       "ENSG00000094914     5.917948     6.004959     5.942657     6.058282   \n",
       "ENSG00000081760     5.695405     6.044789     6.049303     5.494247   \n",
       "\n",
       "                 CXMA-01-083  CXMA-01-084     ...       CXMA-02-069  \\\n",
       "ENSG00000175899     4.377139     4.209879     ...          4.276553   \n",
       "ENSG00000128274     4.473742     4.292814     ...          4.053890   \n",
       "ENSG00000118017     4.848899     4.668983     ...          4.806120   \n",
       "ENSG00000094914     5.821115     5.914748     ...          5.828140   \n",
       "ENSG00000081760     6.081501     6.139230     ...          6.130972   \n",
       "\n",
       "                 CXMA-02-070  CXMA-04-170  CXMA-04-171  CXMA-04-172  \\\n",
       "ENSG00000175899     3.965200     4.541089     4.616176     4.033242   \n",
       "ENSG00000128274     4.121195     3.949637     4.360766     4.136586   \n",
       "ENSG00000118017     4.908338     4.885374     4.740426     4.742989   \n",
       "ENSG00000094914     5.737391     6.128291     6.001581     6.039275   \n",
       "ENSG00000081760     6.001461     5.874372     6.288392     5.840209   \n",
       "\n",
       "                 CXMA-04-169  CXMA-04-173  CXMA-04-174  CXMA-04-175  \\\n",
       "ENSG00000175899     3.769167     4.225523     4.332024     4.318395   \n",
       "ENSG00000128274     4.523433     4.101148     4.568880     4.470527   \n",
       "ENSG00000118017     4.828685     5.019097     5.162487     4.717254   \n",
       "ENSG00000094914     6.062654     5.689895     5.639924     5.631681   \n",
       "ENSG00000081760     5.639442     6.186106     5.817356     5.850848   \n",
       "\n",
       "                 CXMA-02-027  \n",
       "ENSG00000175899     4.213553  \n",
       "ENSG00000128274     4.440927  \n",
       "ENSG00000118017     5.018914  \n",
       "ENSG00000094914     5.778554  \n",
       "ENSG00000081760     5.897589  \n",
       "\n",
       "[5 rows x 849 columns]"
      ]
     },
     "execution_count": 6,
     "metadata": {},
     "output_type": "execute_result"
    }
   ],
   "source": [
    "new_gx_df.head()"
   ]
  }
 ],
 "metadata": {
  "kernelspec": {
   "display_name": "Python 3",
   "language": "python",
   "name": "python3"
  },
  "language_info": {
   "codemirror_mode": {
    "name": "ipython",
    "version": 3
   },
   "file_extension": ".py",
   "mimetype": "text/x-python",
   "name": "python",
   "nbconvert_exporter": "python",
   "pygments_lexer": "ipython3",
   "version": "3.6.6"
  }
 },
 "nbformat": 4,
 "nbformat_minor": 2
}
